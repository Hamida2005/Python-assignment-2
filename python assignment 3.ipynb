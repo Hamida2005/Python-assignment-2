{
 "cells": [
  {
   "cell_type": "code",
   "execution_count": 11,
   "id": "2678ca69-f803-452d-a0a1-cb56e0413d53",
   "metadata": {},
   "outputs": [],
   "source": [
    "import pandas as pd \n",
    "import numpy as np\n",
    "import matplotlib.pyplot as plt\n"
   ]
  },
  {
   "cell_type": "code",
   "execution_count": 12,
   "id": "69fc2506-d8ec-4bfb-9829-6c913a35e34a",
   "metadata": {},
   "outputs": [],
   "source": [
    "# Loading the csv file of train \n",
    "df = pd.read_csv( 'train.csv') "
   ]
  },
  {
   "cell_type": "code",
   "execution_count": 13,
   "id": "5c44ddec-37cb-46da-be12-218fcceddaca",
   "metadata": {},
   "outputs": [
    {
     "name": "stdout",
     "output_type": "stream",
     "text": [
      "PassengerId      0\n",
      "Survived         0\n",
      "Pclass           0\n",
      "Name             0\n",
      "Sex              0\n",
      "Age            177\n",
      "SibSp            0\n",
      "Parch            0\n",
      "Ticket           0\n",
      "Fare             0\n",
      "Cabin          687\n",
      "Embarked         2\n",
      "dtype: int64\n"
     ]
    }
   ],
   "source": [
    "# handle missing values by showing the sum of them \n",
    "missing_values = df.isnull().sum()\n",
    "# printing the sum of null values \n",
    "print (missing_values)"
   ]
  },
  {
   "cell_type": "code",
   "execution_count": 14,
   "id": "1c61a8a2-68db-445f-9a87-8901dce84d72",
   "metadata": {},
   "outputs": [],
   "source": [
    "#to fill those null values, I use median \n",
    "df['Age'] = df['Age'].fillna(df['Age'].median())\n",
    "\n",
    "# Creating a new column 'Has_Cabin'\n",
    "df['Has_Cabin'] = df['Cabin'].notnull().astype(int)\n",
    "# Fill missing values for Cabin with a placeholder (Unknown Value)\n",
    "df['Cabin'] = df['Cabin'].fillna('Unknown Value')\n",
    "\n",
    "\n",
    "# Embarked has 2 missing values which we can be filled by the mode or backfill. \n",
    "# I prefer mode for filling the missing values in Embarked.\n",
    "df['Embarked'] = df['Embarked'].fillna(df['Embarked'].mode()[0])"
   ]
  },
  {
   "cell_type": "code",
   "execution_count": 15,
   "id": "f0d25ce5-47f4-4938-b018-c5966c7509c8",
   "metadata": {},
   "outputs": [
    {
     "name": "stdout",
     "output_type": "stream",
     "text": [
      "Series([], dtype: int64)\n"
     ]
    }
   ],
   "source": [
    "# to ensure that missing values are handled \n",
    "missing_values_after = df.isnull().sum()\n",
    "#printing those columns which include missing values.\n",
    "print(missing_values_after[missing_values_after > 0])"
   ]
  },
  {
   "cell_type": "code",
   "execution_count": 16,
   "id": "0684de90-d99b-47b2-b302-df4d07cc16fb",
   "metadata": {},
   "outputs": [
    {
     "name": "stdout",
     "output_type": "stream",
     "text": [
      "     PassengerId  Survived  Pclass  \\\n",
      "1              2         1       1   \n",
      "2              3         1       3   \n",
      "3              4         1       1   \n",
      "8              9         1       3   \n",
      "9             10         1       2   \n",
      "..           ...       ...     ...   \n",
      "880          881         1       2   \n",
      "882          883         0       3   \n",
      "885          886         0       3   \n",
      "887          888         1       1   \n",
      "888          889         0       3   \n",
      "\n",
      "                                                  Name     Sex   Age  SibSp  \\\n",
      "1    Cumings, Mrs. John Bradley (Florence Briggs Th...  female  38.0      1   \n",
      "2                               Heikkinen, Miss. Laina  female  26.0      0   \n",
      "3         Futrelle, Mrs. Jacques Heath (Lily May Peel)  female  35.0      1   \n",
      "8    Johnson, Mrs. Oscar W (Elisabeth Vilhelmina Berg)  female  27.0      0   \n",
      "9                  Nasser, Mrs. Nicholas (Adele Achem)  female  14.0      1   \n",
      "..                                                 ...     ...   ...    ...   \n",
      "880       Shelley, Mrs. William (Imanita Parrish Hall)  female  25.0      0   \n",
      "882                       Dahlberg, Miss. Gerda Ulrika  female  22.0      0   \n",
      "885               Rice, Mrs. William (Margaret Norton)  female  39.0      0   \n",
      "887                       Graham, Miss. Margaret Edith  female  19.0      0   \n",
      "888           Johnston, Miss. Catherine Helen \"Carrie\"  female  28.0      1   \n",
      "\n",
      "     Parch            Ticket     Fare          Cabin Embarked  Has_Cabin  \n",
      "1        0          PC 17599  71.2833            C85        C          1  \n",
      "2        0  STON/O2. 3101282   7.9250  Unknown Value        S          0  \n",
      "3        0            113803  53.1000           C123        S          1  \n",
      "8        2            347742  11.1333  Unknown Value        S          0  \n",
      "9        0            237736  30.0708  Unknown Value        C          0  \n",
      "..     ...               ...      ...            ...      ...        ...  \n",
      "880      1            230433  26.0000  Unknown Value        S          0  \n",
      "882      0              7552  10.5167  Unknown Value        S          0  \n",
      "885      5            382652  29.1250  Unknown Value        Q          0  \n",
      "887      0            112053  30.0000            B42        S          1  \n",
      "888      2        W./C. 6607  23.4500  Unknown Value        S          0  \n",
      "\n",
      "[314 rows x 13 columns]\n"
     ]
    }
   ],
   "source": [
    "female_passengers = df[df['Sex'] == 'female']\n",
    "print(female_passengers)"
   ]
  },
  {
   "cell_type": "code",
   "execution_count": 17,
   "id": "1ef10d18-8a5a-43af-b5f0-644ab7ead7cc",
   "metadata": {},
   "outputs": [
    {
     "name": "stdout",
     "output_type": "stream",
     "text": [
      "PassengerId                                               318331\n",
      "Survived                                                     260\n",
      "Pclass                                                      1597\n",
      "Name           Braund, Mr. Owen HarrisCumings, Mrs. John Brad...\n",
      "Sex            malefemalefemalefemalemalemalemalefemalefemale...\n",
      "Age                                                      23896.5\n",
      "SibSp                                                        280\n",
      "Parch                                                        204\n",
      "Ticket         A/5 21171PC 17599STON/O2. 31012821138033734503...\n",
      "Fare                                                  23350.2491\n",
      "Cabin          Unknown ValueC85Unknown ValueC123Unknown Value...\n",
      "Embarked       SCSSSQSSSSSSSCSSSSCQSCCQSCSCSSSCSQQCSCSCSSCCSS...\n",
      "Has_Cabin                                                    175\n",
      "dtype: object\n"
     ]
    }
   ],
   "source": [
    "# 2. Filter for passengers older than 20\n",
    "older_passengers = df[df['Age'] > 20]\n",
    "print(older_passengers.sum())"
   ]
  },
  {
   "cell_type": "code",
   "execution_count": 19,
   "id": "0d865ae0-9db2-4570-9737-086bda8819eb",
   "metadata": {},
   "outputs": [
    {
     "data": {
      "image/png": "[encoded data removed]",
      "text/plain": [
       "<Figure size 640x480 with 1 Axes>"
      ]
     },
     "metadata": {},
     "output_type": "display_data"
    }
   ],
   "source": [
    "import matplotlib.pyplot as plt\n",
    "# Creating a histogram for age distribution of survived passengers\n",
    "survived_ages = df[df['Survived']==1]['Age'].dropna()\n",
    "survived_ages.plot(kind='hist', color = 'red', edgecolor = 'black')\n",
    "# Adding titles and labels\n",
    "plt.title('Age Distribution of Survived Passengers')\n",
    "plt.xlabel('Age') \n",
    "plt.ylabel('Frequency') \n",
    "plt.show()"
   ]
  },
  {
   "cell_type": "code",
   "execution_count": 21,
   "id": "0fa7900a-29fd-498b-9620-4253a82b2ecf",
   "metadata": {},
   "outputs": [
    {
     "data": {
      "image/png": "[encoded data removed]",
      "text/plain": [
       "<Figure size 640x480 with 1 Axes>"
      ]
     },
     "metadata": {},
     "output_type": "display_data"
    }
   ],
   "source": [
    "# this time i like to use a bar chart to show the rate of survival.\n",
    "survival_rate = df.groupby('Pclass')['Survived'].mean()\n",
    "\n",
    "# Features for plotting\n",
    "survival_rate.plot(kind='bar', color=['purple', 'green', 'gray'])\n",
    "plt.title('Survival Rate by Passenger Class') \n",
    "plt.xlabel('Passenger Class') \n",
    "plt.ylabel('Survival Rate') \n",
    "plt.show() "
   ]
  },
  {
   "cell_type": "code",
   "execution_count": null,
   "id": "90247834-8b3d-4bee-9053-685c66241ec9",
   "metadata": {},
   "outputs": [],
   "source": []
  }
 ],
 "metadata": {
  "kernelspec": {
   "display_name": "Python 3 (ipykernel)",
   "language": "python",
   "name": "python3"
  },
  "language_info": {
   "codemirror_mode": {
    "name": "ipython",
    "version": 3
   },
   "file_extension": ".py",
   "mimetype": "text/x-python",
   "name": "python",
   "nbconvert_exporter": "python",
   "pygments_lexer": "ipython3",
   "version": "3.12.4"
  }
 },
 "nbformat": 4,
 "nbformat_minor": 5
}
